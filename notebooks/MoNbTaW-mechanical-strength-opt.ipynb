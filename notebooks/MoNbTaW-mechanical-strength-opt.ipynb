{
 "cells": [
  {
   "cell_type": "code",
   "execution_count": 1,
   "metadata": {},
   "outputs": [
    {
     "name": "stdout",
     "output_type": "stream",
     "text": [
      "Populating the interactive namespace from numpy and matplotlib\n"
     ]
    }
   ],
   "source": [
    "%pylab inline"
   ]
  },
  {
   "cell_type": "code",
   "execution_count": 2,
   "metadata": {},
   "outputs": [],
   "source": [
    "from scipy.optimize import minimize\n",
    "from scipy.optimize import LinearConstraint, NonlinearConstraint"
   ]
  },
  {
   "cell_type": "code",
   "execution_count": 3,
   "metadata": {},
   "outputs": [],
   "source": [
    "import pandas as pd"
   ]
  },
  {
   "cell_type": "markdown",
   "metadata": {},
   "source": [
    "# Empirical Maresca-Curtin model for yield strength of BCC HEA"
   ]
  },
  {
   "cell_type": "markdown",
   "metadata": {},
   "source": [
    "Model of the yield strength is taken from\n",
    "\n",
    "```\n",
    "Maresca, F., & Curtin, W. A. (2020). Mechanistic origin of high strength in refractory BCC high entropy alloys up to 1900K. Acta Materialia, 182, 235-249.\n",
    "```\n",
    "\n",
    "BiBTeX:\n",
    "```latex\n",
    "@article{maresca2020mechanistic,\n",
    "  title={Mechanistic origin of high strength in refractory BCC high entropy alloys up to 1900K},\n",
    "  author={Maresca, Francesco and Curtin, William A},\n",
    "  journal={Acta Mater.},\n",
    "  volume={182},\n",
    "  pages={235--249},\n",
    "  year={2020},\n",
    "  publisher={Elsevier}\n",
    "}\n",
    "```"
   ]
  },
  {
   "cell_type": "code",
   "execution_count": 4,
   "metadata": {},
   "outputs": [],
   "source": [
    "alpha=1/12"
   ]
  },
  {
   "cell_type": "code",
   "execution_count": 5,
   "metadata": {},
   "outputs": [],
   "source": [
    "#input: a, c11, c12, c44, dV, c\n",
    "\n",
    "def compute_tau0_dEb(a, C11, C12, C44, dV, comp):\n",
    "    mu_bar = np.sqrt(1/2*C44*(C11-C12))\n",
    "    print(\"mu = {:.0f} GPa\".format(mu_bar))\n",
    "\n",
    "    B_bar = (C11+2*C12)\n",
    "    print(\"B = {:.0f} GPa\".format(B_bar))\n",
    "\n",
    "    nu_bar = (3*B_bar - 2*mu_bar)/2/(3*B_bar+mu_bar)\n",
    "    print(\"nu = {:.2f}\".format(nu_bar))\n",
    "\n",
    "    b= a*np.sqrt(3)/2 # for BCC\n",
    "\n",
    "    G = sum((comp*dV**2))/b**6\n",
    "\n",
    "    tau_y0 = 0.040 * alpha**(-1/3) * mu_bar * ((1+nu_bar)/(1-nu_bar))**(4/3) * (G)**(2/3)\n",
    "    print(\"tau_y0 = {:.3f} GPa\".format(tau_y0)) # GPa\n",
    "\n",
    "    dEb = 2.00 * alpha**(1/3) * mu_bar * b**3 * ((1+nu_bar)/(1-nu_bar))**(2/3) * (G)**(1/3)\n",
    "    dEb_eV = dEb * 1e-21 * 6.242e18 # in eV\n",
    "    print(\"dEb = {:.3f} eV\".format(dEb_eV)) # GPa\n"
   ]
  },
  {
   "cell_type": "markdown",
   "metadata": {},
   "source": [
    "# Model input parameters: experimental data and DFT data from Materials Project"
   ]
  },
  {
   "cell_type": "markdown",
   "metadata": {},
   "source": [
    "list of elements from original paper"
   ]
  },
  {
   "cell_type": "code",
   "execution_count": 6,
   "metadata": {},
   "outputs": [],
   "source": [
    "elements=[\"Mo\",\"Nb\",\"Ta\",\"W\"]"
   ]
  },
  {
   "cell_type": "code",
   "execution_count": 7,
   "metadata": {},
   "outputs": [],
   "source": [
    "bcc_res=pd.read_json(\"MP_BCC_data.json\", orient=\"records\",)"
   ]
  },
  {
   "cell_type": "code",
   "execution_count": 8,
   "metadata": {},
   "outputs": [],
   "source": [
    "bcc_res=bcc_res.set_index(\"pretty_formula\")"
   ]
  },
  {
   "cell_type": "markdown",
   "metadata": {},
   "source": [
    "Lattice constants are taken from Materials project dataset"
   ]
  },
  {
   "cell_type": "code",
   "execution_count": 9,
   "metadata": {},
   "outputs": [],
   "source": [
    "volume_dict=bcc_res[\"volume\"].to_dict()\n",
    "a_dict=bcc_res[\"a_lattice\"].to_dict()"
   ]
  },
  {
   "cell_type": "markdown",
   "metadata": {},
   "source": [
    "Experimental data for elastic constants (in GPa) from NIST (URL: https://tsapps.nist.gov/publication/get_pdf.cfm?pub_id=851172 )"
   ]
  },
  {
   "cell_type": "code",
   "execution_count": 10,
   "metadata": {},
   "outputs": [],
   "source": [
    "C11_dict={'Mo': 463.7, \n",
    "          'Nb': 240, \n",
    "          'Ta': 260, \n",
    "          'V': 228.2, \n",
    "          'W': 522}\n",
    "\n",
    "C12_dict={'Mo': 158, \n",
    "          'Nb': 126, \n",
    "          'Ta': 154, \n",
    "          'V': 119, \n",
    "          'W': 204}\n",
    "\n",
    "C44_dict={'Mo': 109, \n",
    "          'Nb': 28, \n",
    "          'Ta': 83, \n",
    "          'V': 43, \n",
    "          'W': 161}"
   ]
  },
  {
   "cell_type": "code",
   "execution_count": null,
   "metadata": {},
   "outputs": [],
   "source": []
  },
  {
   "cell_type": "code",
   "execution_count": 11,
   "metadata": {},
   "outputs": [],
   "source": [
    "a_array=np.array([a_dict[el] for el in elements])\n",
    "volume_array=np.array([volume_dict[el] for el in elements])\n",
    "C11_array=np.array([C11_dict[el] for el in elements])\n",
    "C12_array=np.array([C12_dict[el] for el in elements])\n",
    "C44_array=np.array([C44_dict[el] for el in elements])"
   ]
  },
  {
   "cell_type": "code",
   "execution_count": 12,
   "metadata": {},
   "outputs": [],
   "source": [
    "def compute_tau0_dEb(a, C11, C12, C44, dV, comp):\n",
    "    mu_bar = np.sqrt(1/2*C44*(C11-C12))\n",
    "    B_bar = (C11+2*C12)\n",
    "    nu_bar = (3*B_bar - 2*mu_bar)/2/(3*B_bar+mu_bar)\n",
    "    b= a*np.sqrt(3)/2 # for BCC\n",
    "\n",
    "    G = sum((comp*dV**2))/b**6\n",
    "\n",
    "    tau_y0 = 0.040 * alpha**(-1/3) * mu_bar * ((1+nu_bar)/(1-nu_bar))**(4/3) * (G)**(2/3)\n",
    "    dEb = 2.00 * alpha**(1/3) * mu_bar * b**3 * ((1+nu_bar)/(1-nu_bar))**(2/3) * (G)**(1/3)\n",
    "    dEb_eV = dEb * 1e-21 * 6.242e18 # in eV\n",
    "    return tau_y0, dEb_eV"
   ]
  },
  {
   "cell_type": "code",
   "execution_count": 13,
   "metadata": {},
   "outputs": [],
   "source": [
    "M= 3.067\n",
    "eps_dot_0=1e4\n",
    "eps_dot=1e-4\n",
    "\n",
    "def calc_sigma_compLT(comp, a_a=a_array, \n",
    "                    volume_a=volume_array, \n",
    "                    C11_a=C11_array, \n",
    "                    C12_a=C12_array, \n",
    "                    C44_a=C44_array, T=300, verbose=False):\n",
    "    a = np.sum(a_a*comp)\n",
    "    V = np.sum(volume_a*comp)\n",
    "    C11 = np.sum(C11_a*comp)\n",
    "    C12 = np.sum(C12_a*comp)\n",
    "    C44 = np.sum(C44_a*comp)\n",
    "    dV = volume_a-V\n",
    "    if verbose:\n",
    "        print(\"a:\",a)\n",
    "        print(\"dV:\", dV)\n",
    "        print(\"C11, C12, C44:\", C11, C12, C44)\n",
    "    \n",
    "    b=a*np.sqrt(3)/2 # bcc Burger's vector\n",
    "    \n",
    "    tau_y0, dEb_eV =  compute_tau0_dEb(a = a, comp=comp,dV=dV, C11=C11, C12=C12, C44=C44)\n",
    "    kT_eV = 1.38*1e-23 * T  * 6.242e18    \n",
    "    tau_y = tau_y0*(1 - (kT_eV/dEb_eV*np.log(eps_dot_0/eps_dot))**(2/3))\n",
    "    if verbose:\n",
    "        print(\"tau_y0 =  {:.3f}, tau_y = {:.3f}, tau_y/tau_y0={:.2f}\".format(tau_y,tau_y0, tau_y/tau_y0))  \n",
    "        if tau_y/tau_y0 <0.5:\n",
    "            print(\"WARNING, tau_y/tau_y0<0.5 (not low-T regime)\")\n",
    "    sigma_y = tau_y * M\n",
    "    return sigma_y # GPa"
   ]
  },
  {
   "cell_type": "code",
   "execution_count": 14,
   "metadata": {},
   "outputs": [],
   "source": [
    "def calc_sigma_compHT(comp, a_a=a_array, \n",
    "                    volume_a=volume_array, \n",
    "                    C11_a=C11_array, \n",
    "                    C12_a=C12_array, \n",
    "                    C44_a=C44_array, T=300, verbose=False):\n",
    "    a = np.sum(a_a*comp)\n",
    "    V = np.sum(volume_a*comp)\n",
    "    C11 = np.sum(C11_a*comp)\n",
    "    C12 = np.sum(C12_a*comp)\n",
    "    C44 = np.sum(C44_a*comp)\n",
    "    dV = volume_a-V\n",
    "    if verbose:\n",
    "        print(\"a:\",a)\n",
    "        print(\"dV:\", dV)\n",
    "        print(\"C11, C12, C44:\", C11, C12, C44)\n",
    "    \n",
    "    b=a*np.sqrt(3)/2 # bcc Burger's vector\n",
    "    \n",
    "    tau_y0, dEb_eV =  compute_tau0_dEb(a = a, comp=comp,dV=dV, C11=C11, C12=C12, C44=C44)\n",
    "    kT_eV = 1.38*1e-23 * T  * 6.242e18    \n",
    "    tau_y = tau_y0*np.exp(-1/0.55*kT_eV/dEb_eV*np.log(eps_dot_0/eps_dot))\n",
    "    if verbose:\n",
    "        print(\"tau_y0 =  {:.3f}, tau_y = {:.3f}, tau_y/tau_y0={:.2f}\".format(tau_y,tau_y0, tau_y/tau_y0))        \n",
    "        if tau_y/tau_y0 >=0.5:\n",
    "            print(\"WARNING, tau_y/tau_y0>0.5 (not high-T regime)\")\n",
    "    sigma_y = tau_y * M\n",
    "    return sigma_y # GPa"
   ]
  },
  {
   "cell_type": "code",
   "execution_count": 16,
   "metadata": {},
   "outputs": [],
   "source": [
    "def calc_sigma_comp(comp, a_a=a_array, \n",
    "                    volume_a=volume_array, \n",
    "                    C11_a=C11_array, \n",
    "                    C12_a=C12_array, \n",
    "                    C44_a=C44_array, T=300, verbose=False):\n",
    "    a = np.sum(a_a*comp)\n",
    "    V = np.sum(volume_a*comp)\n",
    "    C11 = np.sum(C11_a*comp)\n",
    "    C12 = np.sum(C12_a*comp)\n",
    "    C44 = np.sum(C44_a*comp)\n",
    "    dV = volume_a-V\n",
    "    if verbose:\n",
    "        print(\"a:\",a)\n",
    "        print(\"dV:\", dV)\n",
    "        print(\"C11, C12, C44:\", C11, C12, C44)\n",
    "    \n",
    "    b=a*np.sqrt(3)/2 # bcc Burger's vector\n",
    "    \n",
    "    tau_y0, dEb_eV =  compute_tau0_dEb(a = a, comp=comp,dV=dV, C11=C11, C12=C12, C44=C44)\n",
    "    kT_eV = 1.38*1e-23 * T  * 6.242e18    \n",
    "    tau_y = tau_y0*(1 - (kT_eV/dEb_eV*np.log(eps_dot_0/eps_dot))**(2/3)) # low T model\n",
    "    if tau_y/tau_y0 <0.5:\n",
    "        # use high-T model\n",
    "        tau_y = tau_y0*np.exp(-1/0.55*kT_eV/dEb_eV*np.log(eps_dot_0/eps_dot)) # high T model\n",
    "    \n",
    "    \n",
    "    sigma_y = tau_y * M\n",
    "    return sigma_y # GPa"
   ]
  },
  {
   "cell_type": "code",
   "execution_count": null,
   "metadata": {},
   "outputs": [],
   "source": []
  },
  {
   "cell_type": "code",
   "execution_count": 17,
   "metadata": {},
   "outputs": [],
   "source": [
    "def inv_calc_sigma_comp(comp,T=300):\n",
    "    return -calc_sigma_comp(comp,T=T)"
   ]
  },
  {
   "cell_type": "code",
   "execution_count": 18,
   "metadata": {},
   "outputs": [],
   "source": [
    "def inv_calc_sigma_compLT(comp,T=300):\n",
    "    return -calc_sigma_compLT(comp,T=T)"
   ]
  },
  {
   "cell_type": "code",
   "execution_count": 19,
   "metadata": {},
   "outputs": [],
   "source": [
    "def inv_calc_sigma_compHT(comp,T=300):\n",
    "    return -calc_sigma_compHT(comp,T=T)"
   ]
  },
  {
   "cell_type": "code",
   "execution_count": 20,
   "metadata": {},
   "outputs": [],
   "source": [
    "def comp_to_str(comp, sep=\" \", latex_style=False):\n",
    "    if not latex_style:\n",
    "        return sep.join([\"{}_{:.3f}\".format(el,c) for el,c in zip(elements,comp) if c>1e-3])\n",
    "    else:\n",
    "        return sep.join([\"{}$_{{{:.1f}}}$\".format(el,100*c) for el,c in zip(elements,comp) if c>1e-3])"
   ]
  },
  {
   "cell_type": "code",
   "execution_count": 21,
   "metadata": {},
   "outputs": [],
   "source": [
    "def print_composition(comp, sep=\" \", latex_style=False):\n",
    "    print(comp_to_str(comp,sep=sep, latex_style=latex_style))"
   ]
  },
  {
   "cell_type": "code",
   "execution_count": 22,
   "metadata": {},
   "outputs": [],
   "source": [
    "def sigmoid(x):\n",
    "    return np.sum((np.tanh((x-0.05)*50)+1)/2)"
   ]
  },
  {
   "cell_type": "code",
   "execution_count": 23,
   "metadata": {},
   "outputs": [],
   "source": [
    "def maximize_yield_strength(initialcomp=None, n_elements=None, T=300, model=\"LT\"):\n",
    "    \"\"\"\n",
    "    model: LT, HT, auto\n",
    "    \"\"\"\n",
    "    if initialcomp is None:\n",
    "        # initial composition is equicomposition\n",
    "        initialcomp = np.ones(len(elements))/len(elements)\n",
    "    \n",
    "    # list of optimization contraints\n",
    "    constraints = []\n",
    "    \n",
    "    # valid bounds for elements concentration\n",
    "    bounds=[[0.0, 1]]*len(elements)\n",
    "    \n",
    "    # normalization contraint - sum of concentrations equals to one\n",
    "    lc=LinearConstraint(A=np.ones_like(elements,dtype=np.float64).reshape(1,-1),lb = 1, ub=1)\n",
    "    constraints.append(lc)\n",
    "    \n",
    "    if n_elements is not None:\n",
    "        nlc=NonlinearConstraint(sigmoid,n_elements-0.05,n_elements+0.05)\n",
    "        constraints.append(nlc)\n",
    "    \n",
    "    if model==\"LT\":\n",
    "        opt_func = inv_calc_sigma_compLT\n",
    "    elif model==\"HT\":\n",
    "        opt_func = inv_calc_sigma_compHT\n",
    "    elif model==\"auto\":\n",
    "        opt_func = inv_calc_sigma_comp\n",
    "    else:\n",
    "        raise ValueError(\"Unknown model='{}'. Must be LT/HT/auto\".format(model))\n",
    "    print(\"Model used:\",model)\n",
    "    min_res=minimize(opt_func,\n",
    "                     x0=equicomp, \n",
    "                     args=(T),\n",
    "                     bounds=bounds, \n",
    "                     constraints=constraints, \n",
    "                     method='trust-constr')\n",
    "    return min_res\n"
   ]
  },
  {
   "cell_type": "markdown",
   "metadata": {},
   "source": [
    "# Yield strength"
   ]
  },
  {
   "cell_type": "markdown",
   "metadata": {},
   "source": [
    "## Equicomposition"
   ]
  },
  {
   "cell_type": "code",
   "execution_count": 24,
   "metadata": {},
   "outputs": [
    {
     "data": {
      "text/plain": [
       "['Mo', 'Nb', 'Ta', 'W']"
      ]
     },
     "execution_count": 24,
     "metadata": {},
     "output_type": "execute_result"
    }
   ],
   "source": [
    "elements"
   ]
  },
  {
   "cell_type": "code",
   "execution_count": 25,
   "metadata": {},
   "outputs": [],
   "source": [
    "Tlow  = 300\n",
    "Thigh = 1300"
   ]
  },
  {
   "cell_type": "code",
   "execution_count": 26,
   "metadata": {},
   "outputs": [],
   "source": [
    "n_elements=len(elements)"
   ]
  },
  {
   "cell_type": "code",
   "execution_count": 27,
   "metadata": {},
   "outputs": [],
   "source": [
    "equicomp=np.ones_like(elements,dtype=\"f\")/n_elements"
   ]
  },
  {
   "cell_type": "code",
   "execution_count": null,
   "metadata": {},
   "outputs": [],
   "source": []
  },
  {
   "cell_type": "code",
   "execution_count": 28,
   "metadata": {},
   "outputs": [
    {
     "name": "stdout",
     "output_type": "stream",
     "text": [
      "T =  300 K\n",
      "Equicomposition: Mo_0.250 Nb_0.250 Ta_0.250 W_0.250\n",
      "a: 3.24946\n",
      "dV: [-1.28934348  1.12481059  1.15406672 -0.98953383]\n",
      "C11, C12, C44: 371.425 160.5 95.25\n",
      "Yield Strength: 1.31 GPa\n"
     ]
    }
   ],
   "source": [
    "print(\"T = \", Tlow, \"K\")\n",
    "print(\"Equicomposition:\", comp_to_str(equicomp))\n",
    "print(\"Yield Strength: {:.2f} GPa\".format(calc_sigma_comp(comp=equicomp,T=Tlow, verbose=True)))"
   ]
  },
  {
   "cell_type": "code",
   "execution_count": 29,
   "metadata": {},
   "outputs": [
    {
     "name": "stdout",
     "output_type": "stream",
     "text": [
      "T =  300 K\n",
      "Equicomposition: Mo_0.250 Nb_0.250 Ta_0.250 W_0.250\n",
      "a: 3.24946\n",
      "dV: [-1.28934348  1.12481059  1.15406672 -0.98953383]\n",
      "C11, C12, C44: 371.425 160.5 95.25\n",
      "tau_y0 =  0.454, tau_y = 0.599, tau_y/tau_y0=0.76\n",
      "WARNING, tau_y/tau_y0>0.5 (not high-T regime)\n",
      "Yield Strength: 1.39 GPa\n"
     ]
    }
   ],
   "source": [
    "print(\"T = \", Tlow, \"K\")\n",
    "print(\"Equicomposition:\", comp_to_str(equicomp))\n",
    "print(\"Yield Strength: {:.2f} GPa\".format(calc_sigma_compHT(comp=equicomp,T=Tlow, verbose=True)))"
   ]
  },
  {
   "cell_type": "code",
   "execution_count": null,
   "metadata": {},
   "outputs": [],
   "source": []
  },
  {
   "cell_type": "markdown",
   "metadata": {},
   "source": [
    "## Yield strength constrained optimization at low (300K) and high (1300K) temperatures"
   ]
  },
  {
   "cell_type": "code",
   "execution_count": 30,
   "metadata": {},
   "outputs": [
    {
     "name": "stdout",
     "output_type": "stream",
     "text": [
      "Model used: LT\n"
     ]
    }
   ],
   "source": [
    "lowT_ternary_opt = maximize_yield_strength(T=Tlow)"
   ]
  },
  {
   "cell_type": "code",
   "execution_count": 31,
   "metadata": {},
   "outputs": [
    {
     "name": "stdout",
     "output_type": "stream",
     "text": [
      "T =  300 K\n",
      "Maximal YS composition: Mo_0.403 Ta_0.360 W_0.238\n",
      "Yield Strength: 1.53 GPa\n",
      "a: 3.227960931572001\n",
      "dV: [-0.95020025  1.46395382  1.49320995 -0.6503906 ]\n",
      "C11, C12, C44: 404.28738141928443 167.4973922666703 112.01014856494183\n",
      "Yield Strength: 1.53 GPa\n"
     ]
    }
   ],
   "source": [
    "print(\"T = \", Tlow, \"K\")\n",
    "print(\"Maximal YS composition:\", comp_to_str(lowT_ternary_opt.x))\n",
    "print(\"Yield Strength: {:.2f} GPa\".format(-lowT_ternary_opt.fun))\n",
    "print(\"Yield Strength: {:.2f} GPa\".format(calc_sigma_comp(comp=lowT_ternary_opt.x,T=Tlow, verbose=True)))"
   ]
  },
  {
   "cell_type": "code",
   "execution_count": null,
   "metadata": {},
   "outputs": [],
   "source": []
  },
  {
   "cell_type": "code",
   "execution_count": 32,
   "metadata": {},
   "outputs": [
    {
     "name": "stdout",
     "output_type": "stream",
     "text": [
      "Model used: LT\n"
     ]
    }
   ],
   "source": [
    "highT_ternary_opt= maximize_yield_strength(T=Thigh)"
   ]
  },
  {
   "cell_type": "code",
   "execution_count": 33,
   "metadata": {},
   "outputs": [
    {
     "name": "stdout",
     "output_type": "stream",
     "text": [
      "T =  1300 K\n",
      "Maximal YS composition: Mo_0.120 Ta_0.333 W_0.547\n",
      "\n",
      "a: 3.22993371901502\n",
      "dV: [-0.97737423  1.43677983  1.46603597 -0.67756459]\n",
      "C11, C12, C44: 427.75526638007454 181.81601607956924 128.77179410251512\n",
      "Yield Strength: 0.72 GPa\n"
     ]
    }
   ],
   "source": [
    "print(\"T = \", Thigh, \"K\")\n",
    "print(\"Maximal YS composition:\", comp_to_str(highT_ternary_opt.x))\n",
    "print()\n",
    "print(\"Yield Strength: {:.2f} GPa\".format(calc_sigma_comp(comp=highT_ternary_opt.x,T=Thigh, verbose=True)))"
   ]
  },
  {
   "cell_type": "markdown",
   "metadata": {},
   "source": [
    "### Optimize using highT model"
   ]
  },
  {
   "cell_type": "code",
   "execution_count": 34,
   "metadata": {},
   "outputs": [
    {
     "name": "stdout",
     "output_type": "stream",
     "text": [
      "Model used: HT\n"
     ]
    }
   ],
   "source": [
    "highT_ternary_opt2= maximize_yield_strength(T=Thigh, model='HT')"
   ]
  },
  {
   "cell_type": "code",
   "execution_count": 35,
   "metadata": {},
   "outputs": [
    {
     "name": "stdout",
     "output_type": "stream",
     "text": [
      "T =  1300 K\n",
      "Maximal YS composition: Mo_0.185 Ta_0.339 W_0.476\n",
      "a: 3.229480331223664\n",
      "dV: [-0.97112092  1.44303315  1.47228928 -0.67131127]\n",
      "C11, C12, C44: 422.41509916718803 178.55460653998873 124.95442339101541\n",
      "tau_y0 =  0.235, tau_y = 0.669, tau_y/tau_y0=0.35\n",
      "Yield StrengthHT: 0.72 GPa\n"
     ]
    }
   ],
   "source": [
    "print(\"T = \", Thigh, \"K\")\n",
    "print(\"Maximal YS composition:\", comp_to_str(highT_ternary_opt2.x))\n",
    "print(\"Yield StrengthHT: {:.2f} GPa\".format(calc_sigma_compHT(comp=highT_ternary_opt2.x,T=Thigh, verbose=True)))"
   ]
  },
  {
   "cell_type": "code",
   "execution_count": null,
   "metadata": {},
   "outputs": [],
   "source": []
  },
  {
   "cell_type": "markdown",
   "metadata": {},
   "source": [
    "## Nonlinear constraint with number of elements"
   ]
  },
  {
   "cell_type": "code",
   "execution_count": 38,
   "metadata": {},
   "outputs": [
    {
     "name": "stdout",
     "output_type": "stream",
     "text": [
      "Model used: LT\n"
     ]
    }
   ],
   "source": [
    "lowT_quaternary_opt=maximize_yield_strength(n_elements=4, T=Tlow)"
   ]
  },
  {
   "cell_type": "code",
   "execution_count": 39,
   "metadata": {},
   "outputs": [
    {
     "name": "stdout",
     "output_type": "stream",
     "text": [
      "T =  300 K\n",
      "Maximal YS composition (4 elements): Mo_0.375 Nb_0.079 Ta_0.279 W_0.267\n",
      "Yield Strength: 1.50 GPa\n"
     ]
    }
   ],
   "source": [
    "print(\"T = \", Tlow, \"K\")\n",
    "print(\"Maximal YS composition (4 elements):\", comp_to_str(lowT_quaternary_opt.x))\n",
    "print(\"Yield Strength: {:.2f} GPa\".format(-lowT_quaternary_opt.fun))"
   ]
  },
  {
   "cell_type": "code",
   "execution_count": 40,
   "metadata": {},
   "outputs": [
    {
     "name": "stdout",
     "output_type": "stream",
     "text": [
      "Model used: LT\n"
     ]
    }
   ],
   "source": [
    "highT_quaternary_opt = maximize_yield_strength(n_elements=4, T=Thigh)"
   ]
  },
  {
   "cell_type": "code",
   "execution_count": 41,
   "metadata": {},
   "outputs": [
    {
     "name": "stdout",
     "output_type": "stream",
     "text": [
      "T =  1300 K\n",
      "Maximal YS composition (4 elements): Mo_0.117 Nb_0.080 Ta_0.253 W_0.551\n",
      "a: 3.229789649435075\n",
      "dV: [-0.97493609  1.43921797  1.46847411 -0.67512645]\n",
      "C11, C12, C44: 426.5339349299729 179.78737545784264 124.62977705202965\n",
      "Yield StrengthHT: 0.69 GPa\n"
     ]
    }
   ],
   "source": [
    "print(\"T = \", Thigh, \"K\")\n",
    "print(\"Maximal YS composition (4 elements):\", comp_to_str(highT_quaternary_opt.x))\n",
    "print(\"Yield StrengthHT: {:.2f} GPa\".format(calc_sigma_comp(comp=highT_quaternary_opt.x,\n",
    "                                                              T=Thigh, verbose=True)))"
   ]
  },
  {
   "cell_type": "markdown",
   "metadata": {},
   "source": [
    "### Optimize using highT model"
   ]
  },
  {
   "cell_type": "code",
   "execution_count": 42,
   "metadata": {},
   "outputs": [
    {
     "name": "stdout",
     "output_type": "stream",
     "text": [
      "Model used: HT\n"
     ]
    }
   ],
   "source": [
    "highT_quaternary_opt2 = maximize_yield_strength(n_elements=4, T=Thigh, model=\"HT\")"
   ]
  },
  {
   "cell_type": "code",
   "execution_count": 43,
   "metadata": {},
   "outputs": [
    {
     "name": "stdout",
     "output_type": "stream",
     "text": [
      "T =  1300 K\n",
      "Maximal YS composition (4 elements): Mo_0.160 Nb_0.079 Ta_0.259 W_0.502\n",
      "a: 3.229742182040468\n",
      "dV: [-0.97482474  1.43932932  1.46858546 -0.6750151 ]\n",
      "C11, C12, C44: 422.4346673800066 177.4984965414618 121.91942781977774\n",
      "tau_y0 =  0.226, tau_y = 0.655, tau_y/tau_y0=0.35\n",
      "Yield StrengthHT: 0.69 GPa\n"
     ]
    }
   ],
   "source": [
    "print(\"T = \", Thigh, \"K\")\n",
    "print(\"Maximal YS composition (4 elements):\", comp_to_str(highT_quaternary_opt2.x))\n",
    "print(\"Yield StrengthHT: {:.2f} GPa\".format(calc_sigma_compHT(comp=highT_quaternary_opt2.x,\n",
    "                                                              T=Thigh, verbose=True)))"
   ]
  },
  {
   "cell_type": "markdown",
   "metadata": {},
   "source": [
    "# Plot temperature dependencies"
   ]
  },
  {
   "cell_type": "code",
   "execution_count": 45,
   "metadata": {},
   "outputs": [],
   "source": [
    "Ts = np.linspace(200, 1900)"
   ]
  },
  {
   "cell_type": "code",
   "execution_count": 46,
   "metadata": {},
   "outputs": [],
   "source": [
    "equicomp_sigmas = [calc_sigma_comp(equicomp, T=T) for T in Ts]\n",
    "equicomp_sigmasLT = [calc_sigma_compLT(equicomp, T=T) for T in Ts]\n",
    "equicomp_sigmasHT = [calc_sigma_compHT(equicomp, T=T) for T in Ts]"
   ]
  },
  {
   "cell_type": "markdown",
   "metadata": {},
   "source": [
    "Switch between low-T and high-T models for equiatomic composition"
   ]
  },
  {
   "cell_type": "code",
   "execution_count": 49,
   "metadata": {},
   "outputs": [
    {
     "data": {
      "text/plain": [
       "Text(0, 0.5, 'Yield stress (GPa)')"
      ]
     },
     "execution_count": 49,
     "metadata": {},
     "output_type": "execute_result"
    },
    {
     "data": {
      "image/png": "[encoded data removed]",
      "text/plain": [
       "<Figure size 900x450 with 1 Axes>"
      ]
     },
     "metadata": {
      "needs_background": "light"
     },
     "output_type": "display_data"
    }
   ],
   "source": [
    "plt.figure(figsize=(6,3), dpi=150)\n",
    "plt.plot(Ts, equicomp_sigmasLT, label=\"MoNbTaW, low T model\", alpha=1, color=\"blue\")\n",
    "plt.plot(Ts, equicomp_sigmasHT, label=\"MoNbTaW, high T model\", alpha=1, color=\"red\")\n",
    "plt.plot(Ts, equicomp_sigmas, label=\"MoNbTaW, joint\", alpha=1, color=\"green\")\n",
    "plt.legend()\n",
    "plt.xlabel(\"T (K)\")\n",
    "plt.ylabel(\"Yield stress (GPa)\")"
   ]
  },
  {
   "cell_type": "code",
   "execution_count": 50,
   "metadata": {},
   "outputs": [],
   "source": [
    "ternary_comp=comp_to_str(lowT_ternary_opt.x, sep=\"\", latex_style=True)\n",
    "quaternary_comp=comp_to_str(lowT_quaternary_opt.x, sep=\"\", latex_style=True)"
   ]
  },
  {
   "cell_type": "code",
   "execution_count": 51,
   "metadata": {},
   "outputs": [],
   "source": [
    "ternary_HT_comp=comp_to_str(highT_ternary_opt.x, sep=\"\", latex_style=True)\n",
    "quaternary_HT_comp=comp_to_str(highT_quaternary_opt.x, sep=\"\", latex_style=True)"
   ]
  },
  {
   "cell_type": "code",
   "execution_count": 52,
   "metadata": {},
   "outputs": [],
   "source": [
    "ternary_HT_comp2=comp_to_str(highT_ternary_opt2.x, sep=\"\", latex_style=True)\n",
    "quaternary_HT_comp2=comp_to_str(highT_quaternary_opt2.x, sep=\"\", latex_style=True)"
   ]
  },
  {
   "cell_type": "code",
   "execution_count": null,
   "metadata": {},
   "outputs": [],
   "source": []
  },
  {
   "cell_type": "code",
   "execution_count": null,
   "metadata": {},
   "outputs": [],
   "source": []
  },
  {
   "cell_type": "code",
   "execution_count": 53,
   "metadata": {},
   "outputs": [],
   "source": [
    "lowT_ternary_sigmas = [calc_sigma_comp(lowT_ternary_opt.x, T=T) for T in Ts]"
   ]
  },
  {
   "cell_type": "code",
   "execution_count": 54,
   "metadata": {},
   "outputs": [],
   "source": [
    "lowT_quaternary_sigmas = [calc_sigma_comp(lowT_quaternary_opt.x, T=T) for T in Ts]"
   ]
  },
  {
   "cell_type": "code",
   "execution_count": 55,
   "metadata": {},
   "outputs": [],
   "source": [
    "highT_ternary_sigmas = [calc_sigma_comp(highT_ternary_opt.x, T=T) for T in Ts]"
   ]
  },
  {
   "cell_type": "code",
   "execution_count": 56,
   "metadata": {},
   "outputs": [],
   "source": [
    "highT_quaternary_sigmas = [calc_sigma_comp(highT_quaternary_opt.x, T=T) for T in Ts]"
   ]
  },
  {
   "cell_type": "code",
   "execution_count": null,
   "metadata": {},
   "outputs": [],
   "source": []
  },
  {
   "cell_type": "code",
   "execution_count": 57,
   "metadata": {},
   "outputs": [],
   "source": [
    "highT_ternary_sigmas2 = [calc_sigma_comp(highT_ternary_opt2.x, T=T) for T in Ts]\n",
    "highT_quaternary_sigmas2 = [calc_sigma_comp(highT_quaternary_opt2.x, T=T) for T in Ts]"
   ]
  },
  {
   "cell_type": "code",
   "execution_count": null,
   "metadata": {},
   "outputs": [],
   "source": []
  },
  {
   "cell_type": "code",
   "execution_count": null,
   "metadata": {},
   "outputs": [],
   "source": []
  },
  {
   "cell_type": "code",
   "execution_count": 58,
   "metadata": {},
   "outputs": [],
   "source": [
    "ternary_comp='Mo$_{40.2}$Ta$_{36.0}$W$_{23.8}$'"
   ]
  },
  {
   "cell_type": "code",
   "execution_count": 59,
   "metadata": {},
   "outputs": [],
   "source": [
    "quaternary_HT_comp='Mo$_{11.7}$Nb$_{8.0}$Ta$_{25.3}$W$_{55.0}$'"
   ]
  },
  {
   "cell_type": "code",
   "execution_count": 60,
   "metadata": {},
   "outputs": [
    {
     "data": {
      "image/png": "[encoded data removed]",
      "text/plain": [
       "<Figure size 900x450 with 1 Axes>"
      ]
     },
     "metadata": {
      "needs_background": "light"
     },
     "output_type": "display_data"
    }
   ],
   "source": [
    "plt.figure(figsize=(6,3), dpi=150)\n",
    "\n",
    "plt.plot(Ts,lowT_ternary_sigmas, color=\"blue\", label=ternary_comp)\n",
    "plt.plot(Ts,lowT_quaternary_sigmas, color=\"green\",  label=quaternary_comp)\n",
    "\n",
    "plt.plot(Ts,highT_ternary_sigmas2, color=\"blue\", ls=\"--\",label=ternary_HT_comp2)\n",
    "plt.plot(Ts,highT_quaternary_sigmas2, color=\"green\", ls=\"--\", label=quaternary_HT_comp2)\n",
    "\n",
    "plt.plot(Ts,equicomp_sigmas, color=\"gray\", label=\"MoNbTaW\")\n",
    "plt.axvline(Tlow, color=\"gray\", ls=\"--\")\n",
    "plt.axvline(Thigh, color=\"gray\", ls=\"--\")\n",
    "plt.xlabel(\"T (K)\")\n",
    "plt.ylabel(\"Yield stress (GPa)\")\n",
    "plt.legend()\n",
    "plt.tight_layout()\n",
    "plt.savefig(\"YS_T_HT_new.pdf\")"
   ]
  },
  {
   "cell_type": "code",
   "execution_count": null,
   "metadata": {},
   "outputs": [],
   "source": []
  }
 ],
 "metadata": {
  "kernelspec": {
   "display_name": "Python 3",
   "language": "python",
   "name": "python3"
  },
  "language_info": {
   "codemirror_mode": {
    "name": "ipython",
    "version": 3
   },
   "file_extension": ".py",
   "mimetype": "text/x-python",
   "name": "python",
   "nbconvert_exporter": "python",
   "pygments_lexer": "ipython3",
   "version": "3.7.6"
  }
 },
 "nbformat": 4,
 "nbformat_minor": 4
}
